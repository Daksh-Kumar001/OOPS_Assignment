{
 "cells": [
  {
   "cell_type": "code",
   "execution_count": 1,
   "id": "192368b1-79e6-4bce-a0b7-a8a80c75b8a4",
   "metadata": {},
   "outputs": [],
   "source": [
    "#Practical Question"
   ]
  },
  {
   "cell_type": "raw",
   "id": "ce45707e-2f83-49bc-bc64-9f773601639c",
   "metadata": {},
   "source": [
    "QUESTION-1 Five Key Concepts of Object-Oriented Programming (OOP)."
   ]
  },
  {
   "cell_type": "code",
   "execution_count": null,
   "id": "8b47883f-a00e-4b7f-a193-2ac215ce4253",
   "metadata": {},
   "outputs": [],
   "source": [
    "#Answer-1\n",
    "There are five key concepts of object-oriented programming (OOP) are:\n",
    "1). Encapsulation: Bundling data (attributes) and methods that operate on the data within a single unit (class). Access to the data can be restricted.\n",
    "2).Abstraction: Hiding complex implementation details and exposing only the necessary parts.\n",
    "3).Inheritance: Enabling one class to inherit the properties and methods of another class.\n",
    "4).Polymorphism: Allowing methods to have different implementations in different contexts (e.g., method overriding).\n",
    "5).Class and Object: Classes are blueprints for objects. An object is an instance of a class."
   ]
  },
  {
   "cell_type": "raw",
   "id": "424e0756-72a2-426f-b25c-0d13e9d23e80",
   "metadata": {},
   "source": [
    "QUESTION-2 Write a Python class for a Car with attributes for make, model, and year. Include a method to display \n",
    "the car's information."
   ]
  },
  {
   "cell_type": "code",
   "execution_count": 2,
   "id": "907bf8fb-99d4-47a9-bdd6-e32faacafeab",
   "metadata": {},
   "outputs": [
    {
     "name": "stdout",
     "output_type": "stream",
     "text": [
      "Car Information: 2024 BMW M5\n"
     ]
    }
   ],
   "source": [
    "#Answer-2\n",
    "class Car:\n",
    "    def __init__(self, make, model, year):\n",
    "        self.make = make\n",
    "        self.model = model\n",
    "        self.year = year\n",
    "\n",
    "    def display_info(self):\n",
    "        print(f\"Car Information: {self.year} {self.make} {self.model}\")\n",
    "\n",
    "#Example Usage\n",
    "car = Car(\"BMW\", \"M5\", 2024)\n",
    "car.display_info()"
   ]
  },
  {
   "cell_type": "raw",
   "id": "06086b32-d061-4f98-9130-5aae4581a2e9",
   "metadata": {},
   "source": [
    "QUESTION-3  Explain the difference between instance methods and class methods. Provide an example of each."
   ]
  },
  {
   "cell_type": "code",
   "execution_count": 6,
   "id": "df3a0b05-40a3-46cc-add4-f7f66b0a8103",
   "metadata": {},
   "outputs": [
    {
     "name": "stdout",
     "output_type": "stream",
     "text": [
      "This is an instance method.\n",
      "Number of instances: 1\n"
     ]
    }
   ],
   "source": [
    "#Answer-3\n",
    "\n",
    "# Instance Methods: Operate on instances of the class. Use self as the first parameter.\n",
    "# Class Methods: Operate on the class itself and use cls as the first parameter. Marked with @classmethod.\n",
    "\n",
    "class Example:\n",
    "    count = 0\n",
    "\n",
    "    def __init__(self):\n",
    "        Example.count += 1\n",
    "\n",
    "    def instance_method(self):\n",
    "        print(\"This is an instance method.\")\n",
    "\n",
    "    @classmethod\n",
    "    def class_method(cls):\n",
    "        print(f\"Number of instances: {cls.count}\")\n",
    "\n",
    "# Usage:\n",
    "obj = Example()\n",
    "obj.instance_method()\n",
    "Example.class_method()"
   ]
  },
  {
   "cell_type": "code",
   "execution_count": null,
   "id": "7afc1f68-bd6c-4414-8af2-961f110af05b",
   "metadata": {},
   "outputs": [],
   "source": [
    "QUESTION-4 How does Python implement method overloading? Give an example."
   ]
  },
  {
   "cell_type": "code",
   "execution_count": 20,
   "id": "90dd4967-c9d4-4e70-83e1-49fe1465a303",
   "metadata": {},
   "outputs": [
    {
     "name": "stdout",
     "output_type": "stream",
     "text": [
      "Hello!\n",
      "Hello, Daksh!\n"
     ]
    }
   ],
   "source": [
    "#Answer-4\n",
    "class Example:\n",
    "    def greet(self, name=None):\n",
    "        if name:\n",
    "            print(f\"Hello, {name}!\")\n",
    "        else:\n",
    "            print(\"Hello!\")\n",
    "\n",
    "# Usage:\n",
    "ex = Example()\n",
    "ex.greet()\n",
    "ex.greet(\"Daksh\")"
   ]
  },
  {
   "cell_type": "code",
   "execution_count": null,
   "id": "22a6a43c-4918-4988-87bf-ef4c7fabc4b8",
   "metadata": {},
   "outputs": [],
   "source": [
    "QUESTION-5 What are the three types of access modifiers in Python? How are they denoted?"
   ]
  },
  {
   "cell_type": "code",
   "execution_count": 22,
   "id": "96a423de-a88b-4a1a-a469-71199fd05c0b",
   "metadata": {},
   "outputs": [],
   "source": [
    "# #Answer-5\n",
    "# Public: Accessible from anywhere. Denoted normally (variable).\n",
    "# Protected: Indicated by a single underscore (_variable). Accessible in subclasses.\n",
    "# Private: Indicated by double underscores (__variable). Not accessible outside the class."
   ]
  },
  {
   "cell_type": "raw",
   "id": "6730acab-11b9-42e9-b460-09f8be4d3e17",
   "metadata": {},
   "source": [
    "QUESTION-6 Describe the five types of inheritance in Python. Provide a simple example of multiple inheritance."
   ]
  },
  {
   "cell_type": "code",
   "execution_count": 26,
   "id": "f5bc232f-a49c-4178-be2f-c2bc7d8b0961",
   "metadata": {},
   "outputs": [
    {
     "name": "stdout",
     "output_type": "stream",
     "text": [
      "This is Parent1\n",
      "This is Parent2\n",
      "This is Child\n"
     ]
    }
   ],
   "source": [
    "#Answer-6\n",
    "# Single Inheritance: One parent, one child.\n",
    "# Multiple Inheritance: One child inherits from multiple parents.\n",
    "# Multilevel Inheritance: A chain of inheritance.\n",
    "# Hierarchical Inheritance: One parent, multiple children.\n",
    "# Hybrid Inheritance: A mix of two or more types of inheritance.\n",
    "\n",
    "#     Example of Multiple Inheritance:\n",
    "\n",
    "class Parent1:\n",
    "    def func1(self):\n",
    "        print(\"This is Parent1\")\n",
    "\n",
    "class Parent2:\n",
    "    def func2(self):\n",
    "        print(\"This is Parent2\")\n",
    "\n",
    "class Child(Parent1, Parent2):\n",
    "    def func3(self):\n",
    "        print(\"This is Child\")\n",
    "\n",
    "# Usage:\n",
    "child = Child()\n",
    "child.func1()\n",
    "child.func2()\n",
    "child.func3()"
   ]
  },
  {
   "cell_type": "raw",
   "id": "fd6072f0-bef3-4ecb-89b2-74ed445723a4",
   "metadata": {},
   "source": [
    "QUESTION-7 What is the Method Resolution Order (MRO) in Python? How can you retrieve it programmatically?"
   ]
  },
  {
   "cell_type": "code",
   "execution_count": 19,
   "id": "7e263cb1-48ed-42d9-b786-212af66c0f1b",
   "metadata": {},
   "outputs": [
    {
     "name": "stdout",
     "output_type": "stream",
     "text": [
      "[<class '__main__.D'>, <class '__main__.B'>, <class '__main__.C'>, <class '__main__.A'>, <class 'object'>]\n"
     ]
    }
   ],
   "source": [
    "#Answer-7\n",
    "# MRO determines the order in which classes are searched for a method during inheritance.\n",
    "# You can retrieve it with ClassName.__mro__ or ClassName.mro().\n",
    "\n",
    "# Example:\n",
    "\n",
    "class A: pass\n",
    "class B(A): pass\n",
    "class C(A): pass\n",
    "class D(B, C): pass\n",
    "\n",
    "print(D.mro())"
   ]
  },
  {
   "cell_type": "raw",
   "id": "cad692bc-a407-4a80-9526-a62b94db6038",
   "metadata": {},
   "source": [
    "QUESTION-8. Create an abstract base class Shape with an abstract method area (). Then create two subclasses."
   ]
  },
  {
   "cell_type": "code",
   "execution_count": 27,
   "id": "a0b5e7fe-3380-4818-829c-2f260cfaedf6",
   "metadata": {},
   "outputs": [
    {
     "name": "stdout",
     "output_type": "stream",
     "text": [
      "Circle area: 78.5\n",
      "Rectangle area: 24\n"
     ]
    }
   ],
   "source": [
    "#Answer-8\n",
    "from abc import ABC, abstractmethod\n",
    "\n",
    "class Shape(ABC):\n",
    "    @abstractmethod\n",
    "    def area(self):\n",
    "        pass\n",
    "\n",
    "class Circle(Shape):\n",
    "    def __init__(self, radius):\n",
    "        self.radius = radius\n",
    "\n",
    "    def area(self):\n",
    "        return 3.14 * self.radius * self.radius\n",
    "\n",
    "class Rectangle(Shape):\n",
    "    def __init__(self, width, height):\n",
    "        self.width = width\n",
    "        self.height = height\n",
    "\n",
    "    def area(self):\n",
    "        return self.width * self.height\n",
    "\n",
    "# Usage:\n",
    "circle = Circle(5)\n",
    "rectangle = Rectangle(4, 6)\n",
    "print(f\"Circle area: {circle.area()}\")\n",
    "print(f\"Rectangle area: {rectangle.area()}\")"
   ]
  },
  {
   "cell_type": "code",
   "execution_count": null,
   "id": "9ca04e60-94d5-4fff-9cb8-a602041b8dd0",
   "metadata": {},
   "outputs": [],
   "source": [
    "QUESTION-9 Demonstrate polymorphism by creating a function that can work with different shape objects to calculate \n",
    "and print their areas."
   ]
  },
  {
   "cell_type": "code",
   "execution_count": 28,
   "id": "211e27e0-d3ec-4d6f-9402-4f128b6970be",
   "metadata": {},
   "outputs": [
    {
     "name": "stdout",
     "output_type": "stream",
     "text": [
      "The area is: 78.5\n",
      "The area is: 24\n"
     ]
    }
   ],
   "source": [
    "#Answer-9\n",
    "from abc import ABC, abstractmethod\n",
    "\n",
    "# Define the abstract base class Shape\n",
    "class Shape(ABC):\n",
    "    @abstractmethod\n",
    "    def area(self):\n",
    "        pass\n",
    "\n",
    "# Define the Circle class inheriting from Shape\n",
    "class Circle(Shape):\n",
    "    def __init__(self, radius):\n",
    "        self.radius = radius\n",
    "\n",
    "    def area(self):\n",
    "        return 3.14 * self.radius * self.radius\n",
    "\n",
    "# Define the Rectangle class inheriting from Shape\n",
    "class Rectangle(Shape):\n",
    "    def __init__(self, width, height):\n",
    "        self.width = width\n",
    "        self.height = height\n",
    "\n",
    "    def area(self):\n",
    "        return self.width * self.height\n",
    "\n",
    "# Define the function to demonstrate polymorphism\n",
    "def print_area(shape):\n",
    "    print(f\"The area is: {shape.area()}\")\n",
    "\n",
    "# Create instances of Circle and Rectangle\n",
    "circle = Circle(5)\n",
    "rectangle = Rectangle(4, 6)\n",
    "\n",
    "# Use the print_area function with different shape objects\n",
    "print_area(circle)\n",
    "print_area(rectangle)"
   ]
  },
  {
   "cell_type": "raw",
   "id": "e6919af7-6163-4106-9c3a-fe11fb7504e7",
   "metadata": {},
   "source": [
    "QUESTION-10 Implement encapsulation in a BankAccount class with private attributes for balance and \n",
    "account_number. Include methods for deposit, withdrawal, and balance inquiry."
   ]
  },
  {
   "cell_type": "code",
   "execution_count": 29,
   "id": "862c0cbd-74ee-4913-984f-e073f89ac72c",
   "metadata": {},
   "outputs": [
    {
     "name": "stdout",
     "output_type": "stream",
     "text": [
      "Deposited: 100\n",
      "Withdrew: 50\n",
      "Balance: 50\n"
     ]
    }
   ],
   "source": [
    "#Answer-10\n",
    "class BankAccount:\n",
    "    def __init__(self, account_number, balance=0):\n",
    "        self.__account_number = account_number\n",
    "        self.__balance = balance\n",
    "\n",
    "    def deposit(self, amount):\n",
    "        if amount > 0:\n",
    "            self.__balance += amount\n",
    "            print(f\"Deposited: {amount}\")\n",
    "        else:\n",
    "            print(\"Invalid deposit amount.\")\n",
    "\n",
    "    def withdraw(self, amount):\n",
    "        if 0 < amount <= self.__balance:\n",
    "            self.__balance -= amount\n",
    "            print(f\"Withdrew: {amount}\")\n",
    "        else:\n",
    "            print(\"Invalid withdrawal amount.\")\n",
    "\n",
    "    def get_balance(self):\n",
    "        print(f\"Balance: {self.__balance}\")\n",
    "\n",
    "# Usage:\n",
    "account = BankAccount(\"123456\")\n",
    "account.deposit(100)\n",
    "account.withdraw(50)\n",
    "account.get_balance()"
   ]
  },
  {
   "cell_type": "raw",
   "id": "9d712a29-dac0-4472-9b21-2ce75d220bb3",
   "metadata": {},
   "source": [
    "QUESTION-11 Write a class that overrides the __str__ and __add__ magic methods. What will these methods allow."
   ]
  },
  {
   "cell_type": "code",
   "execution_count": 30,
   "id": "760ded15-3be6-479b-ace8-935afab1e080",
   "metadata": {},
   "outputs": [
    {
     "name": "stdout",
     "output_type": "stream",
     "text": [
      "Deposited: 100\n",
      "Withdrew: 50\n",
      "Balance: 50\n"
     ]
    }
   ],
   "source": [
    "#Answer-11\n",
    "class BankAccount:\n",
    "    def __init__(self, account_number, balance=0):\n",
    "        self.__account_number = account_number\n",
    "        self.__balance = balance\n",
    "\n",
    "    def deposit(self, amount):\n",
    "        if amount > 0:\n",
    "            self.__balance += amount\n",
    "            print(f\"Deposited: {amount}\")\n",
    "        else:\n",
    "            print(\"Invalid deposit amount.\")\n",
    "\n",
    "    def withdraw(self, amount):\n",
    "        if 0 < amount <= self.__balance:\n",
    "            self.__balance -= amount\n",
    "            print(f\"Withdrew: {amount}\")\n",
    "        else:\n",
    "            print(\"Invalid withdrawal amount.\")\n",
    "\n",
    "    def get_balance(self):\n",
    "        print(f\"Balance: {self.__balance}\")\n",
    "\n",
    "# Usage:\n",
    "account = BankAccount(\"123456\")\n",
    "account.deposit(100)\n",
    "account.withdraw(50)\n",
    "account.get_balance()"
   ]
  },
  {
   "cell_type": "code",
   "execution_count": null,
   "id": "9a51448c-fb73-40cf-b00f-0de9749aa739",
   "metadata": {},
   "outputs": [],
   "source": [
    "QUESTION-12 Create a decorator that measures and prints the execution time of a function."
   ]
  },
  {
   "cell_type": "code",
   "execution_count": 31,
   "id": "d33699f8-f35d-49e5-a332-3f479aff56eb",
   "metadata": {},
   "outputs": [
    {
     "name": "stdout",
     "output_type": "stream",
     "text": [
      "Function executed\n",
      "Execution time: 1.0017 seconds\n"
     ]
    }
   ],
   "source": [
    "#Answer-12\n",
    "import time\n",
    "\n",
    "def timing_decorator(func):\n",
    "    def wrapper(*args, **kwargs):\n",
    "        start_time = time.time()\n",
    "        result = func(*args, **kwargs)\n",
    "        end_time = time.time()\n",
    "        print(f\"Execution time: {end_time - start_time:.4f} seconds\")\n",
    "        return result\n",
    "    return wrapper\n",
    "\n",
    "@timing_decorator\n",
    "def sample_function():\n",
    "    time.sleep(1)\n",
    "    print(\"Function executed\")\n",
    "\n",
    "# Usage:\n",
    "sample_function()"
   ]
  },
  {
   "cell_type": "code",
   "execution_count": null,
   "id": "8aaf0f1a-0429-47a8-a571-72b319e6286e",
   "metadata": {},
   "outputs": [],
   "source": [
    "QUESTION-13 Explain the concept of the Diamond Problem in multiple inheritance. How does Python resolve it?"
   ]
  },
  {
   "cell_type": "code",
   "execution_count": 32,
   "id": "b9fd5156-9e54-4d15-968c-7083961fc9c4",
   "metadata": {},
   "outputs": [
    {
     "name": "stdout",
     "output_type": "stream",
     "text": [
      "B\n",
      "[<class '__main__.D'>, <class '__main__.B'>, <class '__main__.C'>, <class '__main__.A'>, <class 'object'>]\n"
     ]
    }
   ],
   "source": [
    "# Answer-13\n",
    "# In multiple inheritance, the diamond problem occurs when a class inherits from two classes that share a common base class. \n",
    "# Python resolves this using MRO (Method Resolution Order).\n",
    "class A:\n",
    "    def show(self):\n",
    "        print(\"A\")\n",
    "\n",
    "class B(A):\n",
    "    def show(self):\n",
    "        print(\"B\")\n",
    "\n",
    "class C(A):\n",
    "    def show(self):\n",
    "        print(\"C\")\n",
    "\n",
    "class D(B, C):\n",
    "    pass\n",
    "\n",
    "# Usage:\n",
    "d = D()\n",
    "d.show()  # MRO will resolve and call B's show() method\n",
    "print(D.mro())  # Output will show the MRO\n"
   ]
  },
  {
   "cell_type": "code",
   "execution_count": null,
   "id": "9315f3c6-fbea-4748-a4d0-191ced173579",
   "metadata": {},
   "outputs": [],
   "source": [
    "QUESTION-14 Write a class method that keeps track of the number of instances created from a class. "
   ]
  },
  {
   "cell_type": "code",
   "execution_count": 33,
   "id": "06006f5a-918b-464b-b275-7c7507939892",
   "metadata": {},
   "outputs": [
    {
     "name": "stdout",
     "output_type": "stream",
     "text": [
      "2\n"
     ]
    }
   ],
   "source": [
    "#Answer-14\n",
    "class InstanceCounter:\n",
    "    instance_count = 0\n",
    "\n",
    "    def __init__(self):\n",
    "        InstanceCounter.instance_count += 1\n",
    "\n",
    "    @classmethod\n",
    "    def get_instance_count(cls):\n",
    "        return cls.instance_count\n",
    "\n",
    "# Usage:\n",
    "obj1 = InstanceCounter()\n",
    "obj2 = InstanceCounter()\n",
    "print(InstanceCounter.get_instance_count())  # Output: 2\n"
   ]
  },
  {
   "cell_type": "code",
   "execution_count": null,
   "id": "791b2fb5-badf-4a7e-aa1e-6c6c0b59315a",
   "metadata": {},
   "outputs": [],
   "source": [
    "QUESTION-15 Implement a static method in a class that checks if a given year is a leap year."
   ]
  },
  {
   "cell_type": "code",
   "execution_count": 34,
   "id": "8b562cde-a305-4729-b387-8f37be32f0ab",
   "metadata": {},
   "outputs": [
    {
     "name": "stdout",
     "output_type": "stream",
     "text": [
      "True\n",
      "False\n"
     ]
    }
   ],
   "source": [
    "#Answer-15\n",
    "class DateUtils:\n",
    "    @staticmethod\n",
    "    def is_leap_year(year):\n",
    "        return year % 4 == 0 and (year % 100 != 0 or year % 400 == 0)\n",
    "\n",
    "# Usage:\n",
    "print(DateUtils.is_leap_year(2024))  # Output: True\n",
    "print(DateUtils.is_leap_year(1900))  # Output: False"
   ]
  },
  {
   "cell_type": "code",
   "execution_count": null,
   "id": "1f258100-26f2-4d61-802b-ce1546b52ce5",
   "metadata": {},
   "outputs": [],
   "source": []
  }
 ],
 "metadata": {
  "kernelspec": {
   "display_name": "Python 3 (ipykernel)",
   "language": "python",
   "name": "python3"
  },
  "language_info": {
   "codemirror_mode": {
    "name": "ipython",
    "version": 3
   },
   "file_extension": ".py",
   "mimetype": "text/x-python",
   "name": "python",
   "nbconvert_exporter": "python",
   "pygments_lexer": "ipython3",
   "version": "3.12.7"
  }
 },
 "nbformat": 4,
 "nbformat_minor": 5
}
